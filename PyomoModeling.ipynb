{
  "nbformat": 4,
  "nbformat_minor": 0,
  "metadata": {
    "colab": {
      "provenance": []
    },
    "kernelspec": {
      "name": "python3",
      "display_name": "Python 3"
    },
    "language_info": {
      "name": "python"
    }
  },
  "cells": [
    {
      "cell_type": "markdown",
      "source": [
        "# Modeling and Solving Optimization problems with Pyomo\n",
        "Main Outline\n",
        "\n",
        "\n",
        "1.   Modeling vs Solving\n",
        "2.   About Pyomo\n",
        "3.   A simple model\n",
        "3.   Minimum Vertex Cover\n",
        "4.   Travelling Salesman Problem\n",
        "\n"
      ],
      "metadata": {
        "id": "B0fQ9otjh-oH"
      }
    },
    {
      "cell_type": "markdown",
      "source": [
        "## Modeling vs Solving\n",
        "\n",
        "\n",
        "*   Two types of Software tools - Modeling tools and Solvers\n",
        "\n",
        "---\n",
        "\n",
        "\n",
        "*   Modeling tools allow easy human-friendly syntax to model Optimization problems\n",
        "*   Do not solve the problem\n",
        "*   Translate -> Call a solver -> Query the results -> Allow easy manipulation of results\n",
        "*   Examples - **Pyomo**, AMPL, GAMS, AIMMS, JuMP, etc.\n",
        "\n",
        "\n",
        "---\n",
        "\n",
        "\n",
        "\n",
        "*   Solvers implement algorithms for a class of Optimization problems\n",
        "*   Actually solve the given problem\n",
        "*   Input to solver is not human-friendly\n",
        "*   Examples - CLP, CBC, Cplex, Gurobi, SCIP, Minotaur, Ipopt, etc.\n",
        "\n"
      ],
      "metadata": {
        "id": "NwVbKvRVijFp"
      }
    },
    {
      "cell_type": "markdown",
      "source": [
        "## About Pyomo\n",
        "\n",
        "\n",
        "*   Python Optimization Modeling Objects\n",
        "*   By William E. Hart, J-P Watson, David Woodruff, John Siirola and others\n",
        "*   Visit www.pyomo.org and https://github.com/Pyomo/pyomo for documentation and more details\n",
        "*   Python based - Open Source\n",
        "*   Can model linear and nonlinear models\n",
        "*   Need to install a solver separately\n",
        "*   Remember Pyomo is **NOT** a solver\n",
        "\n"
      ],
      "metadata": {
        "id": "hl1tEBkGlfJ2"
      }
    },
    {
      "cell_type": "markdown",
      "source": [
        "## A simple model\n",
        "We will model the below simple model using Pyomo\n",
        "\\begin{align}\n",
        "  \\max & \\hspace{1em} 40x + 30y\\\\\n",
        "  \\mbox{s. t.} & \\hspace{1em} x \\leq 40 \\\\\n",
        "  & \\hspace{1em} x + y \\leq 80 \\\\\n",
        "  & \\hspace{1em} 2x + y \\leq 100 \\\\\n",
        "  & \\hspace{1em} x, y \\geq 0\n",
        "\\end{align}"
      ],
      "metadata": {
        "id": "BKjOydlXK2ph"
      }
    },
    {
      "cell_type": "code",
      "source": [
        "## Installing Pyomo\n",
        "!pip install -q pyomo"
      ],
      "metadata": {
        "id": "AmZr8CT_MOVs",
        "colab": {
          "base_uri": "https://localhost:8080/"
        },
        "outputId": "0d464f90-b0ac-4ba4-9032-3b4afe4e4a46"
      },
      "execution_count": null,
      "outputs": [
        {
          "output_type": "stream",
          "name": "stdout",
          "text": [
            "\u001b[2K     \u001b[90m━━━━━━━━━━━━━━━━━━━━━━━━━━━━━━━━━━━━━━━━\u001b[0m \u001b[32m12.5/12.5 MB\u001b[0m \u001b[31m86.7 MB/s\u001b[0m eta \u001b[36m0:00:00\u001b[0m\n",
            "\u001b[2K     \u001b[90m━━━━━━━━━━━━━━━━━━━━━━━━━━━━━━━━━━━━━━━━\u001b[0m \u001b[32m49.6/49.6 kB\u001b[0m \u001b[31m5.4 MB/s\u001b[0m eta \u001b[36m0:00:00\u001b[0m\n",
            "\u001b[?25h"
          ]
        }
      ]
    },
    {
      "cell_type": "code",
      "source": [
        "## Importing Pyomo\n",
        "from pyomo.environ import *"
      ],
      "metadata": {
        "id": "z8AisvNwL0n3"
      },
      "execution_count": null,
      "outputs": []
    },
    {
      "cell_type": "code",
      "source": [
        "# create a model\n",
        "model = ConcreteModel()\n",
        "\n",
        "# declare decision variables\n",
        "model.x = Var(domain=NonNegativeReals)\n",
        "model.y = Var(domain=NonNegativeReals)\n",
        "\n",
        "# declare objective\n",
        "model.obj = Objective(expr = 40*model.x + 30*model.y, sense=maximize)\n",
        "\n",
        "# declare constraints\n",
        "model.cons1 = Constraint(expr = model.x <= 40)\n",
        "model.cons2 = Constraint(expr = model.x + model.y <= 80)\n",
        "model.cons3 = Constraint(expr = 2*model.x + model.y <= 100)\n",
        "\n",
        "model.pprint()"
      ],
      "metadata": {
        "id": "nsfsAY0PLueH",
        "colab": {
          "base_uri": "https://localhost:8080/"
        },
        "outputId": "413bb9de-8a4d-4088-908b-8d257a1787f5"
      },
      "execution_count": null,
      "outputs": [
        {
          "output_type": "stream",
          "name": "stdout",
          "text": [
            "2 Var Declarations\n",
            "    x : Size=1, Index=None\n",
            "        Key  : Lower : Value : Upper : Fixed : Stale : Domain\n",
            "        None :     0 :  None :  None : False :  True : NonNegativeReals\n",
            "    y : Size=1, Index=None\n",
            "        Key  : Lower : Value : Upper : Fixed : Stale : Domain\n",
            "        None :     0 :  None :  None : False :  True : NonNegativeReals\n",
            "\n",
            "1 Objective Declarations\n",
            "    obj : Size=1, Index=None, Active=True\n",
            "        Key  : Active : Sense    : Expression\n",
            "        None :   True : maximize : 40*x + 30*y\n",
            "\n",
            "3 Constraint Declarations\n",
            "    cons1 : Size=1, Index=None, Active=True\n",
            "        Key  : Lower : Body : Upper : Active\n",
            "        None :  -Inf :    x :  40.0 :   True\n",
            "    cons2 : Size=1, Index=None, Active=True\n",
            "        Key  : Lower : Body  : Upper : Active\n",
            "        None :  -Inf : x + y :  80.0 :   True\n",
            "    cons3 : Size=1, Index=None, Active=True\n",
            "        Key  : Lower : Body    : Upper : Active\n",
            "        None :  -Inf : 2*x + y : 100.0 :   True\n",
            "\n",
            "6 Declarations: x y obj cons1 cons2 cons3\n"
          ]
        }
      ]
    },
    {
      "cell_type": "code",
      "source": [
        "!apt-get install -y -qq coinor-cbc"
      ],
      "metadata": {
        "id": "6nhINgTBMr-j",
        "colab": {
          "base_uri": "https://localhost:8080/"
        },
        "outputId": "ecdfae76-bcc8-403b-f744-a2c9c7715ac2"
      },
      "execution_count": null,
      "outputs": [
        {
          "output_type": "stream",
          "name": "stdout",
          "text": [
            "Selecting previously unselected package coinor-libcoinutils3v5:amd64.\n",
            "(Reading database ... 121747 files and directories currently installed.)\n",
            "Preparing to unpack .../0-coinor-libcoinutils3v5_2.11.4+repack1-2_amd64.deb ...\n",
            "Unpacking coinor-libcoinutils3v5:amd64 (2.11.4+repack1-2) ...\n",
            "Selecting previously unselected package coinor-libosi1v5:amd64.\n",
            "Preparing to unpack .../1-coinor-libosi1v5_0.108.6+repack1-2_amd64.deb ...\n",
            "Unpacking coinor-libosi1v5:amd64 (0.108.6+repack1-2) ...\n",
            "Selecting previously unselected package coinor-libclp1.\n",
            "Preparing to unpack .../2-coinor-libclp1_1.17.5+repack1-1_amd64.deb ...\n",
            "Unpacking coinor-libclp1 (1.17.5+repack1-1) ...\n",
            "Selecting previously unselected package coinor-libcgl1:amd64.\n",
            "Preparing to unpack .../3-coinor-libcgl1_0.60.3+repack1-3_amd64.deb ...\n",
            "Unpacking coinor-libcgl1:amd64 (0.60.3+repack1-3) ...\n",
            "Selecting previously unselected package coinor-libcbc3:amd64.\n",
            "Preparing to unpack .../4-coinor-libcbc3_2.10.7+ds1-1_amd64.deb ...\n",
            "Unpacking coinor-libcbc3:amd64 (2.10.7+ds1-1) ...\n",
            "Selecting previously unselected package coinor-cbc.\n",
            "Preparing to unpack .../5-coinor-cbc_2.10.7+ds1-1_amd64.deb ...\n",
            "Unpacking coinor-cbc (2.10.7+ds1-1) ...\n",
            "Setting up coinor-libcoinutils3v5:amd64 (2.11.4+repack1-2) ...\n",
            "Setting up coinor-libosi1v5:amd64 (0.108.6+repack1-2) ...\n",
            "Setting up coinor-libclp1 (1.17.5+repack1-1) ...\n",
            "Setting up coinor-libcgl1:amd64 (0.60.3+repack1-3) ...\n",
            "Setting up coinor-libcbc3:amd64 (2.10.7+ds1-1) ...\n",
            "Setting up coinor-cbc (2.10.7+ds1-1) ...\n",
            "Processing triggers for man-db (2.10.2-1) ...\n",
            "Processing triggers for libc-bin (2.35-0ubuntu3.4) ...\n",
            "/sbin/ldconfig.real: /usr/local/lib/libtbb.so.12 is not a symbolic link\n",
            "\n",
            "/sbin/ldconfig.real: /usr/local/lib/libtbbbind.so.3 is not a symbolic link\n",
            "\n",
            "/sbin/ldconfig.real: /usr/local/lib/libtbbbind_2_0.so.3 is not a symbolic link\n",
            "\n",
            "/sbin/ldconfig.real: /usr/local/lib/libtbbbind_2_5.so.3 is not a symbolic link\n",
            "\n",
            "/sbin/ldconfig.real: /usr/local/lib/libtbbmalloc.so.2 is not a symbolic link\n",
            "\n",
            "/sbin/ldconfig.real: /usr/local/lib/libtbbmalloc_proxy.so.2 is not a symbolic link\n",
            "\n"
          ]
        }
      ]
    },
    {
      "cell_type": "code",
      "source": [
        "solver = SolverFactory('cbc', executable='/usr/bin/cbc')\n",
        "solver.solve(model)\n",
        "\n",
        "# display solution\n",
        "print('\\nObjective Function = ', model.obj())\n",
        "\n",
        "print('\\nDecision Variables')\n",
        "print('x = ', model.x())\n",
        "print('y = ', model.y())\n",
        "\n",
        "print('\\nConstraints')\n",
        "print('Constraint 1  = ', model.cons1())\n",
        "print('Constraint 2 = ', model.cons2())\n",
        "print('Constraint 3 = ', model.cons3())"
      ],
      "metadata": {
        "id": "hd7YEripNJK6",
        "colab": {
          "base_uri": "https://localhost:8080/"
        },
        "outputId": "8774c2f8-2eab-45d7-b15a-de66c6188a83"
      },
      "execution_count": null,
      "outputs": [
        {
          "output_type": "stream",
          "name": "stdout",
          "text": [
            "\n",
            "Objective Function =  2600.0\n",
            "\n",
            "Decision Variables\n",
            "x =  20.0\n",
            "y =  60.0\n",
            "\n",
            "Constraints\n",
            "Constraint 1  =  20.0\n",
            "Constraint 2 =  80.0\n",
            "Constraint 3 =  100.0\n"
          ]
        }
      ]
    },
    {
      "cell_type": "markdown",
      "source": [
        "# Minimum Vertex Cover\n",
        "\n",
        "\n",
        "*   Let us try to model the Vertex Cover problem in Pyomo\n",
        "*   Vertex Cover - Given an undirected graph $G = (V, E)$ where $V$ is the set of vertices and $E$ the set of edges and weights $w_v \\forall v \\in V$, we define the a binary variable $x_v \\forall v \\in V$ such that $x_v = 1$ if $v$ is included in the vertex cover, $0$ otherwise. We can then formulate the minimum vertex cover problem as\n",
        "\\begin{align}\n",
        "  \\min & \\hspace{1em} \\sum_{v \\in V} w_v x_v & \\\\\n",
        "  s.t. & \\hspace{1em} x_u + x_v \\geq 1 & ∀(u, v) \\in E \\\\\n",
        "  & \\hspace{1em} x_v \\in \\{0, 1\\} & ∀v \\in V\n",
        "\\end{align}\n",
        "*   We will formulate Minimum vertex cover for the below graph in Pyomo\n",
        "*  Weights for the below graph are $w = [5, 2, 1, 6, 2]$\n",
        "\n",
        "![graph](https://drive.google.com/uc?export=view&id=1roFnqYzmmf7xyNtj2vDhxms5agHkXdGJ)"
      ],
      "metadata": {
        "id": "ctgwa6B_mkTu"
      }
    },
    {
      "cell_type": "code",
      "execution_count": null,
      "metadata": {
        "id": "NmtplkCJgbXS"
      },
      "outputs": [],
      "source": [
        "## Create a model\n",
        "model = ConcreteModel()\n",
        "\n",
        "## Create parameters and sets\n",
        "model.n = 5\n",
        "model.V = Set(initialize=range(1, model.n+1))\n",
        "model.E = Set(initialize=[(2,1), (2, 4), (2, 5), (1, 4), (3, 4)])\n",
        "model.w = Param(model.V, initialize={1: 498, 2: 500, 3: 1, 4: 6, 5: 2})\n",
        "\n",
        "## Create Variables\n",
        "model.x = Var(model.V, domain=Binary)\n",
        "\n",
        "## Objective Function\n",
        "model.obj = Objective(expr=sum(model.w[i]*model.x[i] for i in model.V))\n",
        "\n",
        "## Add a list of constraints\n",
        "model.coverCons = ConstraintList()\n",
        "for edge in model.E:\n",
        "  model.coverCons.add(expr=model.x[edge[0]] + model.x[edge[1]] >= 1)"
      ]
    },
    {
      "cell_type": "code",
      "source": [
        "solver.solve(model)\n",
        "\n",
        "for vertex in model.V:\n",
        "  if model.x[vertex].value >= 0.9:\n",
        "    print(vertex)"
      ],
      "metadata": {
        "id": "izevqYtqOnkf",
        "colab": {
          "base_uri": "https://localhost:8080/"
        },
        "outputId": "da829da7-a4a0-42c9-fbc8-5b6108293804"
      },
      "execution_count": null,
      "outputs": [
        {
          "output_type": "stream",
          "name": "stdout",
          "text": [
            "2\n",
            "4\n"
          ]
        }
      ]
    },
    {
      "cell_type": "markdown",
      "source": [
        "## Travelling Salesperson Problem\n",
        "Given $n$ cities and distances $d_{ij}$ between each pair of cities $(i, j)$, the travelling salesperson wants to find the shortest tour. We define binary variables $x_{ij}$ for each pair of cities $(i, j)$ such that $x_{ij} = 1$ if the salesperson goes from city $i$ to city $j$. Note for a symmetric TSP $d_{ij} = d_{ji}$. In this execise we will solve asymmetric TSP.\n",
        "\n",
        "\\begin{align}\n",
        "  \\min & \\hspace{1em} \\sum_{i=1}^n \\sum_{j=1, i \\neq j}^n d_{ij}x_{ij} &\\\\\n",
        "  \\mbox{s.t.} & \\hspace{1em} \\sum_{j=1, j \\neq i}^{n} x_{ij} = 1 & ∀i \\in \\{1, \\ldots, n\\} \\\\\n",
        "  & \\hspace{1em} \\sum_{i=1, i \\neq j}^{n} x_{ij} = 1 & ∀j \\in \\{1, \\ldots, n\\} \\\\\n",
        "  & \\hspace{1em} \\sum_{i \\in S, j \\notin S} x_{ij} \\geq 1 & \\mbox{for } \\phi ⊂ S ⊂ \\{1, \\ldots, n\\} \\\\\n",
        "  & \\hspace{1em} x_{ij} \\in \\{0, 1\\} & ∀ i, j \\in \\{1, \\ldots, n\\}, i \\neq j\n",
        "\\end{align}"
      ],
      "metadata": {
        "id": "Ed9TUGcV53bR"
      }
    },
    {
      "cell_type": "markdown",
      "source": [
        "\n",
        "\n",
        "*   The last set of constraints are subtour elimintation constraints and are exponentially many.\n",
        "*   Many of them may not be required.\n",
        "*   We wish to only add those which are required to the solve the problem.\n",
        "*   We will iteratively solve this problem by adding only a small fraction of these subtour elimination constraints as required.\n",
        "\n",
        "\n",
        "\n"
      ],
      "metadata": {
        "id": "-WsVtRvkEWz3"
      }
    },
    {
      "cell_type": "code",
      "source": [
        "### Randomly generating some points on 2D plane\n",
        "import numpy as np\n",
        "from matplotlib import pyplot as plt\n",
        "n = 15\n",
        "rng = np.random.default_rng(seed=20)\n",
        "x = rng.integers(low=0, high=100, size=n)\n",
        "y = rng.integers(low=0, high=100, size=n)\n",
        "plt.scatter(x, y)\n",
        "plt.show()"
      ],
      "metadata": {
        "id": "V0f3BgdoPpoD",
        "colab": {
          "base_uri": "https://localhost:8080/",
          "height": 430
        },
        "outputId": "a3ae6c9e-97fa-41e1-ed81-4ca541646b11"
      },
      "execution_count": null,
      "outputs": [
        {
          "output_type": "display_data",
          "data": {
            "text/plain": [
              "<Figure size 640x480 with 1 Axes>"
            ],
            "image/png": "[encoded data removed]"
          },
          "metadata": {}
        }
      ]
    },
    {
      "cell_type": "code",
      "source": [
        "def calcDist(tsp, i, j):\n",
        "  return (x[i-1] - x[j-1])**2 + (y[i-1] - y[j-1])**2"
      ],
      "metadata": {
        "id": "vAFsXEUVJggP"
      },
      "execution_count": null,
      "outputs": []
    },
    {
      "cell_type": "code",
      "source": [
        "## Create a model\n",
        "tsp = ConcreteModel()\n",
        "\n",
        "## Create parameters and sets\n",
        "tsp.n = n\n",
        "tsp.cities = Set(initialize=range(1, n+1))\n",
        "tsp.d = Param(tsp.cities, tsp.cities, initialize=calcDist)\n",
        "\n",
        "## Create the variables\n",
        "tsp.x = Var(tsp.cities, tsp.cities, domain=Binary)"
      ],
      "metadata": {
        "id": "ObxqhxWAHI0J"
      },
      "execution_count": null,
      "outputs": []
    },
    {
      "cell_type": "code",
      "source": [
        "## Create Objective function\n",
        "tsp.distance = Objective(expr=sum(tsp.d[i, j]*tsp.x[i, j] for i in tsp.cities for j in tsp.cities))"
      ],
      "metadata": {
        "id": "0eQv7508KO3D"
      },
      "execution_count": null,
      "outputs": []
    },
    {
      "cell_type": "code",
      "source": [
        "##Setting x_{ii} = 0\n",
        "tsp.xii = ConstraintList()\n",
        "for i in tsp.cities:\n",
        "  tsp.xii.add(expr=tsp.x[i, i] == 0)"
      ],
      "metadata": {
        "id": "txY3hQA0MFn8"
      },
      "execution_count": null,
      "outputs": []
    },
    {
      "cell_type": "code",
      "source": [
        "## Assignment Constraints\n",
        "tsp.assignment = ConstraintList()\n",
        "for i in tsp.cities:\n",
        "  tsp.assignment.add(expr=sum(tsp.x[i, j] for j in tsp.cities if i != j)==1)\n",
        "\n",
        "for j in tsp.cities:\n",
        "  tsp.assignment.add(expr=sum(tsp.x[i, j] for i in tsp.cities if i != j)==1)"
      ],
      "metadata": {
        "id": "ws5GoEKKMtuc"
      },
      "execution_count": null,
      "outputs": []
    },
    {
      "cell_type": "code",
      "source": [
        "def getTours(tsp):\n",
        "  tours = []\n",
        "  remaining = [i for i in tsp.cities]\n",
        "  while len(remaining) > 0:\n",
        "    first = remaining[0]\n",
        "    start = first\n",
        "    tour = [start]\n",
        "    tour_len = 0\n",
        "    while start != first or tour_len == 0:\n",
        "      for j in tsp.cities:\n",
        "        if tsp.x[start, j].value >= 0.9:\n",
        "          start = j\n",
        "          tour.append(start)\n",
        "          remaining.remove(start)\n",
        "          tour_len += 1\n",
        "          break\n",
        "    tours.append(tour)\n",
        "  return tours"
      ],
      "metadata": {
        "id": "jO8BzWi6RikF"
      },
      "execution_count": null,
      "outputs": []
    },
    {
      "cell_type": "code",
      "source": [
        "def showTours(tours):\n",
        "  plt.scatter(x, y)\n",
        "  for tour in tours:\n",
        "    for i in range(-1, len(tour) - 1):\n",
        "      plt.plot([x[tour[i]-1], x[tour[i + 1]-1]], [y[tour[i]-1], y[tour[i + 1]-1]], color='red')\n",
        "  plt.show()\n",
        "  #input()"
      ],
      "metadata": {
        "id": "KThejDvwXWzq"
      },
      "execution_count": null,
      "outputs": []
    },
    {
      "cell_type": "code",
      "source": [
        "def addSubtourElimination(tsp, tour):\n",
        "  tsp.subtour.add(expr=sum(tsp.x[i, j] for i in tour for j in tsp.cities if j not in tour) >= 1)"
      ],
      "metadata": {
        "id": "K_nnR-4LZnrZ"
      },
      "execution_count": null,
      "outputs": []
    },
    {
      "cell_type": "code",
      "source": [
        "numTours = n\n",
        "tsp.subtour = ConstraintList()\n",
        "while numTours > 1:\n",
        "  solver.solve(tsp)\n",
        "  tours = getTours(tsp)\n",
        "  numTours = len(tours)\n",
        "  showTours(tours)\n",
        "  if numTours > 1:\n",
        "    for tour in tours:\n",
        "      addSubtourElimination(tsp, tour)"
      ],
      "metadata": {
        "id": "CMF3bmkfM_DP",
        "colab": {
          "base_uri": "https://localhost:8080/",
          "height": 1000
        },
        "outputId": "cdf2b304-4007-4071-d9ef-ec9545a8d7e8"
      },
      "execution_count": null,
      "outputs": [
        {
          "output_type": "display_data",
          "data": {
            "text/plain": [
              "<Figure size 640x480 with 1 Axes>"
            ],
            "image/png": "[encoded data removed]"
          },
          "metadata": {}
        },
        {
          "output_type": "display_data",
          "data": {
            "text/plain": [
              "<Figure size 640x480 with 1 Axes>"
            ],
            "image/png": "[encoded data removed]"
          },
          "metadata": {}
        },
        {
          "output_type": "display_data",
          "data": {
            "text/plain": [
              "<Figure size 640x480 with 1 Axes>"
            ],
            "image/png": "[encoded data removed]"
          },
          "metadata": {}
        }
      ]
    },
    {
      "cell_type": "code",
      "source": [],
      "metadata": {
        "id": "_9bb185qrh4o"
      },
      "execution_count": null,
      "outputs": []
    }
  ]
}